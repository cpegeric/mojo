{
 "cells": [
  {
   "cell_type": "code",
   "execution_count": 4,
   "metadata": {},
   "outputs": [],
   "source": [
    "import duckdb\n",
    "import vegafusion as vf\n",
    "import pandas as pd\n",
    "import altair as alt\n",
    "\n",
    "# Create DuckDB connection\n",
    "conn = duckdb.connect()\n",
    "\n",
    "# Pass DuckDB connection to VegaFusion's set_connection method\n",
    "vf.runtime.set_connection(conn)\n",
    "\n",
    "# Enable Mime Renderer\n",
    "vf.enable()\n",
    "\n",
    "# Read parquet file using the DuckDB connection\n",
    "relation = conn.read_parquet(\n",
    "    \"https://vegafusion-datasets.s3.amazonaws.com/vega/movies_201k.parquet\"\n",
    ")\n",
    "\n",
    "# Filter NULL values and register the result as a table named \"movies\"\n",
    "relation.query(\"tbl\", \"\"\"\n",
    "    SELECT * FROM tbl \n",
    "    WHERE Rotten_Tomatoes_Rating IS NOT NULL AND Imdb_Rating IS NOT NULL\n",
    "\"\"\").to_table(\"movies\")\n",
    "\n",
    "# Create an Altair chart that references the registered DuckDB table\n",
    "chart = alt.Chart(\"table://movies\").mark_rect().encode(\n",
    "    alt.X('IMDB_Rating:Q', bin=alt.Bin(maxbins=60)),\n",
    "    alt.Y('Rotten_Tomatoes_Rating:Q', bin=alt.Bin(maxbins=40)),\n",
    "    alt.Color('count():Q', scale=alt.Scale(scheme='greenblue'))\n",
    ")\n",
    "chart"
   ]
  }
 ],
 "metadata": {
  "kernelspec": {
   "display_name": "Python 3",
   "language": "python",
   "name": "python3"
  },
  "language_info": {
   "codemirror_mode": {
    "name": "ipython",
    "version": 3
   },
   "file_extension": ".py",
   "mimetype": "text/x-python",
   "name": "python",
   "nbconvert_exporter": "python",
   "pygments_lexer": "ipython3",
   "version": "3.11.3"
  },
  "orig_nbformat": 4
 },
 "nbformat": 4,
 "nbformat_minor": 2
}
